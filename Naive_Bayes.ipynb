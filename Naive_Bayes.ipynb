{
  "nbformat": 4,
  "nbformat_minor": 0,
  "metadata": {
    "colab": {
      "provenance": []
    },
    "kernelspec": {
      "name": "python3",
      "display_name": "Python 3"
    },
    "language_info": {
      "name": "python"
    }
  },
  "cells": [
    {
      "cell_type": "code",
      "execution_count": 1,
      "metadata": {
        "id": "z48wvYv5fY6Y"
      },
      "outputs": [],
      "source": [
        "import numpy as np\n",
        "import matplotlib.pyplot as plt\n",
        "import pandas as pd\n"
      ]
    },
    {
      "cell_type": "code",
      "source": [
        "dataset = pd.read_csv('Data.csv')\n",
        "x = dataset.iloc[:, [2,3]].values\n",
        "y = dataset.iloc[:, -1].values"
      ],
      "metadata": {
        "id": "w1QI_6lMf_3_"
      },
      "execution_count": 2,
      "outputs": []
    },
    {
      "cell_type": "code",
      "source": [
        "print(x)"
      ],
      "metadata": {
        "colab": {
          "base_uri": "https://localhost:8080/"
        },
        "id": "0rC-KnkwgeEb",
        "outputId": "a815ef43-166d-4478-99d6-79a81545123d"
      },
      "execution_count": 3,
      "outputs": [
        {
          "output_type": "stream",
          "name": "stdout",
          "text": [
            "[[19 'Botol']\n",
            " [134 'Botol']\n",
            " [12 'Botol']\n",
            " [84 'Botol']\n",
            " [84 'Botol']\n",
            " [4 'Botol']\n",
            " [9 'Botol']\n",
            " [13 'Botol']\n",
            " [2 'Botol']\n",
            " [60 'Botol']\n",
            " [23 'Botol']\n",
            " [55 'Botol']\n",
            " [132 'Botol']\n",
            " [20 'Botol']\n",
            " [9 'Botol']\n",
            " [181 'Botol']\n",
            " [26 'Botol']\n",
            " [9 'Botol']\n",
            " [10 'Botol']\n",
            " [41 'Botol']\n",
            " [60 'Botol']\n",
            " [45 'Botol']\n",
            " [3 'Botol']\n",
            " [5 'Botol']\n",
            " [42 'Botol']\n",
            " [66 'Botol']\n",
            " [120 'Botol']\n",
            " [60 'Botol']\n",
            " [4 'Botol']\n",
            " [119 'Botol']]\n"
          ]
        }
      ]
    },
    {
      "cell_type": "code",
      "source": [
        "from sklearn.model_selection import train_test_split\n",
        "x_train, x_test, y_train, y_test=train_test_split(x, y, test_size=0.25, random_state=0)"
      ],
      "metadata": {
        "id": "JUHHZKBUhVJR"
      },
      "execution_count": 5,
      "outputs": []
    },
    {
      "cell_type": "code",
      "source": [
        "print(x)"
      ],
      "metadata": {
        "colab": {
          "base_uri": "https://localhost:8080/"
        },
        "id": "o6iJ2QwlhvX0",
        "outputId": "4f8bb02b-8a9a-4854-92e2-40408cb57f7e"
      },
      "execution_count": 6,
      "outputs": [
        {
          "output_type": "stream",
          "name": "stdout",
          "text": [
            "[[19 'Botol']\n",
            " [134 'Botol']\n",
            " [12 'Botol']\n",
            " [84 'Botol']\n",
            " [84 'Botol']\n",
            " [4 'Botol']\n",
            " [9 'Botol']\n",
            " [13 'Botol']\n",
            " [2 'Botol']\n",
            " [60 'Botol']\n",
            " [23 'Botol']\n",
            " [55 'Botol']\n",
            " [132 'Botol']\n",
            " [20 'Botol']\n",
            " [9 'Botol']\n",
            " [181 'Botol']\n",
            " [26 'Botol']\n",
            " [9 'Botol']\n",
            " [10 'Botol']\n",
            " [41 'Botol']\n",
            " [60 'Botol']\n",
            " [45 'Botol']\n",
            " [3 'Botol']\n",
            " [5 'Botol']\n",
            " [42 'Botol']\n",
            " [66 'Botol']\n",
            " [120 'Botol']\n",
            " [60 'Botol']\n",
            " [4 'Botol']\n",
            " [119 'Botol']]\n"
          ]
        }
      ]
    },
    {
      "cell_type": "code",
      "source": [
        "print(x_test)"
      ],
      "metadata": {
        "colab": {
          "base_uri": "https://localhost:8080/"
        },
        "id": "DlJUQyXkhyqF",
        "outputId": "978414e0-add6-4dc3-c51a-134a15ef9e79"
      },
      "execution_count": 7,
      "outputs": [
        {
          "output_type": "stream",
          "name": "stdout",
          "text": [
            "[[12 'Botol']\n",
            " [4 'Botol']\n",
            " [20 'Botol']\n",
            " [23 'Botol']\n",
            " [120 'Botol']\n",
            " [42 'Botol']\n",
            " [60 'Botol']\n",
            " [55 'Botol']]\n"
          ]
        }
      ]
    },
    {
      "cell_type": "code",
      "source": [
        "from sklearn.preprocessing import StandardScaler\n",
        "sc = StandardScaler()\n",
        "x_train = sc.fit_transform(x_train)\n",
        "x_test = sc_transform(x_test)"
      ],
      "metadata": {
        "id": "GuN0DzqciifC"
      },
      "execution_count": null,
      "outputs": []
    },
    {
      "cell_type": "code",
      "source": [
        "from sklearn.naive_bayes import GaussianNB\n",
        "classifier = GaussianNB()\n",
        "classifier.fit(x_train, y_train)"
      ],
      "metadata": {
        "id": "BpGFZlxXi9nb"
      },
      "execution_count": null,
      "outputs": []
    },
    {
      "cell_type": "code",
      "source": [
        "y_pred = classifier.predict(x_test)"
      ],
      "metadata": {
        "id": "_3Z5ZLOfj-ud"
      },
      "execution_count": null,
      "outputs": []
    },
    {
      "cell_type": "code",
      "source": [
        "from sklearn.matrics import confusion_matrix  \n",
        "cm = confusion_matrix(y_test, y_pred)\n",
        "print(cm)"
      ],
      "metadata": {
        "id": "eUkP3ESmj_19"
      },
      "execution_count": null,
      "outputs": []
    },
    {
      "cell_type": "code",
      "source": [
        "from matplotlib.colors import ListedColormap\n",
        "x_set, y_set = x_train, y_train\n",
        "x1, x2 = np.meshgrid(np.arange(start = x_set[:, 0].min()-1, stop = x_set[:, 0].max() +1, step=0.01)),\n",
        "                     np.arange(start = x_set[:, 1].min()-1, stop = x_set[:, 0].max() +1, step=0.01))\n",
        "plt.contourf(x1,x2, classifier,predict(np.array([x1.ravel(), x2.ravel()].T).reshape(x1.shape),alpha = 0.75, cmap = ListedColormap(('red','green')))\n",
        "plt.xlim(x1.min(), x1.max())\n",
        "plt.xlim(x2.min(), x2.max())\n",
        "for i, j in enumerate (np.unique(y_set)):\n",
        "  plt.scatter(x_set[y_set == j, 0], x_set[y_set==j, 1],\n",
        "              c = ListedColormap(('red','green'))(i), label = j) \n",
        "  plt.title('Klasifikasi Data dengan Naiive Bayes (Data Training)')\n",
        "  plt.xlabel('Umur')\n",
        "  plt.ylabel('Estimasi Gaji') \n",
        "  plt.legend()\n",
        "  plt.show       "
      ],
      "metadata": {
        "id": "UETkQWwtkS7X"
      },
      "execution_count": null,
      "outputs": []
    }
  ]
}