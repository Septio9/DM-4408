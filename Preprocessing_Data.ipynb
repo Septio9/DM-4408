{
  "nbformat": 4,
  "nbformat_minor": 0,
  "metadata": {
    "colab": {
      "provenance": []
    },
    "kernelspec": {
      "name": "python3",
      "display_name": "Python 3"
    },
    "language_info": {
      "name": "python"
    }
  },
  "cells": [
    {
      "cell_type": "code",
      "execution_count": 1,
      "metadata": {
        "id": "mvwjV1oVQvkC"
      },
      "outputs": [],
      "source": [
        "import numpy as np\n",
        "import matplotlib.pyplot as plt\n",
        "import pandas as pd"
      ]
    },
    {
      "cell_type": "code",
      "source": [
        "dataset = pd.read_csv('Data.csv')\n",
        "x = dataset.iloc[:, :-1].values\n",
        "y = dataset.iloc[:, -1].values"
      ],
      "metadata": {
        "id": "qlaO63ELTLiF"
      },
      "execution_count": 4,
      "outputs": []
    },
    {
      "cell_type": "code",
      "source": [
        "print(x)"
      ],
      "metadata": {
        "colab": {
          "base_uri": "https://localhost:8080/"
        },
        "id": "b-ItnXeDULNt",
        "outputId": "26e74304-19cd-4f62-d498-45de0303cc6c"
      },
      "execution_count": 5,
      "outputs": [
        {
          "output_type": "stream",
          "name": "stdout",
          "text": [
            "[['Kecamatan Pademangan' 'Ciu' 19]\n",
            " ['Kecamatan Pademangan' 'Anggur Orang Tua' 134]\n",
            " ['Kecamatan Pademangan' 'Guinnes' 12]\n",
            " ['Kecamatan Pademangan' 'Anggur Merah' 84]\n",
            " ['Kecamatan Pademangan' 'Rajawali' 84]\n",
            " ['Kecamatan Pademangan' 'Vodka' 4]\n",
            " ['Kecamatan Pademangan' 'Intisari' 9]\n",
            " ['Kecamatan Koja' 'Anggur Orang Tua' 13]\n",
            " ['Kecamatan Koja' 'Anggur Merah' 2]\n",
            " ['Kecamatan Koja' 'Brandy' 60]\n",
            " ['Kecamatan Koja' 'Mansion' 23]\n",
            " ['Kecamatan Koja' 'Rajawali' 55]\n",
            " ['Kecamatan Koja' 'Anggur Ginseng' 132]\n",
            " ['Kecamatan Koja' 'Vodka' 20]\n",
            " ['Kecamatan Cilincing' 'Anggur Merah' 9]\n",
            " ['Kecamatan Cilincing' 'Brandy' 181]\n",
            " ['Kecamatan Cilincing' 'Rajawali' 26]\n",
            " ['Kecamatan Cilincing' 'Kolesom Kecil' 9]\n",
            " ['Kecamatan Cilincing' 'Kolesom Besar' 10]\n",
            " ['Kecamatan Cilincing' 'Aseng' 41]\n",
            " ['KecamatanTanjung Priok' 'Brandy' 60]\n",
            " ['KecamatanTanjung Priok' 'Rajawali' 45]\n",
            " ['KecamatanTanjung Priok' 'Intisari' 3]\n",
            " ['Kecamatan Kelapa Gading' 'Guinnes' 5]\n",
            " ['Kecamatan Kelapa Gading' 'Bintang' 42]\n",
            " ['Kecamatan Kelapa Gading' 'Bir' 66]\n",
            " ['Kecamatan Kelapa Gading' 'Anggur Merah' 120]\n",
            " ['Kecamatan Kelapa Gading' 'Brandy' 60]\n",
            " ['Kecamatan Kelapa Gading' 'Vodka' 4]\n",
            " ['Kecamatan Kelapa Gading' 'Bir Hitam' 119]]\n"
          ]
        }
      ]
    },
    {
      "cell_type": "code",
      "source": [
        "from sklearn.compose import ColumnTransformer\n",
        "from sklearn.preprocessing import OneHotEncoder\n",
        "ct = ColumnTransformer(transformers=[('encoder', OneHotEncoder(), [0])], remainder='passthrough')\n",
        "x = np.array(ct.fit_transform(x))"
      ],
      "metadata": {
        "id": "7_5wFjyiVrM1"
      },
      "execution_count": 11,
      "outputs": []
    },
    {
      "cell_type": "code",
      "source": [
        "print (x)"
      ],
      "metadata": {
        "colab": {
          "base_uri": "https://localhost:8080/"
        },
        "id": "leXMWzoyXk0R",
        "outputId": "61a3355d-0727-4806-c69c-f3d520cfa0e0"
      },
      "execution_count": 10,
      "outputs": [
        {
          "output_type": "stream",
          "name": "stdout",
          "text": [
            "[[0.0 0.0 0.0 1.0 0.0 'Ciu' 19]\n",
            " [0.0 0.0 0.0 1.0 0.0 'Anggur Orang Tua' 134]\n",
            " [0.0 0.0 0.0 1.0 0.0 'Guinnes' 12]\n",
            " [0.0 0.0 0.0 1.0 0.0 'Anggur Merah' 84]\n",
            " [0.0 0.0 0.0 1.0 0.0 'Rajawali' 84]\n",
            " [0.0 0.0 0.0 1.0 0.0 'Vodka' 4]\n",
            " [0.0 0.0 0.0 1.0 0.0 'Intisari' 9]\n",
            " [0.0 0.0 1.0 0.0 0.0 'Anggur Orang Tua' 13]\n",
            " [0.0 0.0 1.0 0.0 0.0 'Anggur Merah' 2]\n",
            " [0.0 0.0 1.0 0.0 0.0 'Brandy' 60]\n",
            " [0.0 0.0 1.0 0.0 0.0 'Mansion' 23]\n",
            " [0.0 0.0 1.0 0.0 0.0 'Rajawali' 55]\n",
            " [0.0 0.0 1.0 0.0 0.0 'Anggur Ginseng' 132]\n",
            " [0.0 0.0 1.0 0.0 0.0 'Vodka' 20]\n",
            " [1.0 0.0 0.0 0.0 0.0 'Anggur Merah' 9]\n",
            " [1.0 0.0 0.0 0.0 0.0 'Brandy' 181]\n",
            " [1.0 0.0 0.0 0.0 0.0 'Rajawali' 26]\n",
            " [1.0 0.0 0.0 0.0 0.0 'Kolesom Kecil' 9]\n",
            " [1.0 0.0 0.0 0.0 0.0 'Kolesom Besar' 10]\n",
            " [1.0 0.0 0.0 0.0 0.0 'Aseng' 41]\n",
            " [0.0 0.0 0.0 0.0 1.0 'Brandy' 60]\n",
            " [0.0 0.0 0.0 0.0 1.0 'Rajawali' 45]\n",
            " [0.0 0.0 0.0 0.0 1.0 'Intisari' 3]\n",
            " [0.0 1.0 0.0 0.0 0.0 'Guinnes' 5]\n",
            " [0.0 1.0 0.0 0.0 0.0 'Bintang' 42]\n",
            " [0.0 1.0 0.0 0.0 0.0 'Bir' 66]\n",
            " [0.0 1.0 0.0 0.0 0.0 'Anggur Merah' 120]\n",
            " [0.0 1.0 0.0 0.0 0.0 'Brandy' 60]\n",
            " [0.0 1.0 0.0 0.0 0.0 'Vodka' 4]\n",
            " [0.0 1.0 0.0 0.0 0.0 'Bir Hitam' 119]]\n"
          ]
        }
      ]
    },
    {
      "cell_type": "code",
      "source": [
        "from sklearn.preprocessing import LabelEncoder\n",
        "le = LabelEncoder()\n",
        "y = le.fit_transform(y)"
      ],
      "metadata": {
        "id": "BN14VGf2aAzK"
      },
      "execution_count": 12,
      "outputs": []
    },
    {
      "cell_type": "code",
      "source": [
        "print(y)"
      ],
      "metadata": {
        "colab": {
          "base_uri": "https://localhost:8080/"
        },
        "id": "Aq4bZf9gaXvW",
        "outputId": "cd1895e4-23b2-4815-8d12-faf6a0742b3a"
      },
      "execution_count": 13,
      "outputs": [
        {
          "output_type": "stream",
          "name": "stdout",
          "text": [
            "[0 0 0 0 0 0 0 0 0 0 0 0 0 0 0 0 0 0 0 0 0 0 0 0 0 0 0 0 0 0]\n"
          ]
        }
      ]
    },
    {
      "cell_type": "code",
      "source": [
        "from sklearn.model_selection import train_test_split\n",
        "x_train, x_test, y_train, y_test = train_test_split(x, y, test_size=0.2, random_state=1)"
      ],
      "metadata": {
        "id": "U16xIKOZao01"
      },
      "execution_count": 17,
      "outputs": []
    },
    {
      "cell_type": "code",
      "source": [
        "print(x_train)"
      ],
      "metadata": {
        "colab": {
          "base_uri": "https://localhost:8080/"
        },
        "id": "h4uj5dXZbk0a",
        "outputId": "632cb0e8-54ef-4bdc-f16c-55a64a9c76e5"
      },
      "execution_count": 18,
      "outputs": [
        {
          "output_type": "stream",
          "name": "stdout",
          "text": [
            "[[1.0 0.0 1.0 0.0 0.0 0.0 'Anggur Merah' 120]\n",
            " [1.0 0.0 0.0 0.0 1.0 0.0 'Anggur Merah' 84]\n",
            " [1.0 0.0 1.0 0.0 0.0 0.0 'Bintang' 42]\n",
            " [1.0 0.0 0.0 0.0 0.0 1.0 'Intisari' 3]\n",
            " [1.0 0.0 1.0 0.0 0.0 0.0 'Guinnes' 5]\n",
            " [1.0 0.0 0.0 0.0 1.0 0.0 'Rajawali' 84]\n",
            " [1.0 0.0 0.0 0.0 1.0 0.0 'Guinnes' 12]\n",
            " [1.0 0.0 1.0 0.0 0.0 0.0 'Bir' 66]\n",
            " [1.0 0.0 0.0 0.0 1.0 0.0 'Intisari' 9]\n",
            " [0.0 1.0 0.0 0.0 0.0 0.0 'Kolesom Besar' 10]\n",
            " [1.0 0.0 0.0 1.0 0.0 0.0 'Vodka' 20]\n",
            " [1.0 0.0 0.0 1.0 0.0 0.0 'Anggur Orang Tua' 13]\n",
            " [1.0 0.0 1.0 0.0 0.0 0.0 'Brandy' 60]\n",
            " [1.0 0.0 0.0 0.0 1.0 0.0 'Anggur Orang Tua' 134]\n",
            " [0.0 1.0 0.0 0.0 0.0 0.0 'Rajawali' 26]\n",
            " [1.0 0.0 0.0 0.0 1.0 0.0 'Ciu' 19]\n",
            " [0.0 1.0 0.0 0.0 0.0 0.0 'Brandy' 181]\n",
            " [1.0 0.0 1.0 0.0 0.0 0.0 'Bir Hitam' 119]\n",
            " [1.0 0.0 1.0 0.0 0.0 0.0 'Vodka' 4]\n",
            " [1.0 0.0 0.0 1.0 0.0 0.0 'Brandy' 60]\n",
            " [1.0 0.0 0.0 1.0 0.0 0.0 'Anggur Merah' 2]\n",
            " [1.0 0.0 0.0 1.0 0.0 0.0 'Anggur Ginseng' 132]\n",
            " [1.0 0.0 0.0 1.0 0.0 0.0 'Rajawali' 55]\n",
            " [1.0 0.0 0.0 0.0 1.0 0.0 'Vodka' 4]]\n"
          ]
        }
      ]
    },
    {
      "cell_type": "code",
      "source": [
        "print(x_test)"
      ],
      "metadata": {
        "colab": {
          "base_uri": "https://localhost:8080/"
        },
        "id": "gT4IUAkZb5H_",
        "outputId": "b243c881-4e54-4b7b-dd56-b58cfbbaa88f"
      },
      "execution_count": 19,
      "outputs": [
        {
          "output_type": "stream",
          "name": "stdout",
          "text": [
            "[[0.0 1.0 0.0 0.0 0.0 0.0 'Kolesom Kecil' 9]\n",
            " [1.0 0.0 0.0 0.0 0.0 1.0 'Rajawali' 45]\n",
            " [1.0 0.0 0.0 1.0 0.0 0.0 'Mansion' 23]\n",
            " [0.0 1.0 0.0 0.0 0.0 0.0 'Aseng' 41]\n",
            " [0.0 1.0 0.0 0.0 0.0 0.0 'Anggur Merah' 9]\n",
            " [1.0 0.0 0.0 0.0 0.0 1.0 'Brandy' 60]]\n"
          ]
        }
      ]
    },
    {
      "cell_type": "code",
      "source": [
        "print(y_train)"
      ],
      "metadata": {
        "colab": {
          "base_uri": "https://localhost:8080/"
        },
        "id": "HGJFZUrPcBWZ",
        "outputId": "8d03bec6-4559-48ef-a81d-98b393be606b"
      },
      "execution_count": 20,
      "outputs": [
        {
          "output_type": "stream",
          "name": "stdout",
          "text": [
            "[0 0 0 0 0 0 0 0 0 0 0 0 0 0 0 0 0 0 0 0 0 0 0 0]\n"
          ]
        }
      ]
    },
    {
      "cell_type": "code",
      "source": [
        "print(y_test)"
      ],
      "metadata": {
        "colab": {
          "base_uri": "https://localhost:8080/"
        },
        "id": "elntwqrwcI4V",
        "outputId": "d2563ce4-7e21-46ef-f5a5-aecc60f044dc"
      },
      "execution_count": 21,
      "outputs": [
        {
          "output_type": "stream",
          "name": "stdout",
          "text": [
            "[0 0 0 0 0 0]\n"
          ]
        }
      ]
    },
    {
      "cell_type": "code",
      "source": [
        "from sklearn.preprocessing import StandartScaler\n",
        "sc = StandardScaler()\n",
        "x_train[:, 3:] = sc.fit_transform(x_train[:, 3:])\n",
        "x_test[:, 3:] = sc.transform(x_test[:, 3:])"
      ],
      "metadata": {
        "id": "Nbh7nHTscaSI"
      },
      "execution_count": null,
      "outputs": []
    }
  ]
}